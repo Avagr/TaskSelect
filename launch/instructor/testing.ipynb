{
 "cells": [
  {
   "cell_type": "code",
   "execution_count": 1,
   "metadata": {
    "collapsed": true,
    "ExecuteTime": {
     "end_time": "2023-09-21T14:40:49.321702457Z",
     "start_time": "2023-09-21T14:40:48.742999008Z"
    }
   },
   "outputs": [
    {
     "ename": "ModuleNotFoundError",
     "evalue": "No module named 'instructor'",
     "output_type": "error",
     "traceback": [
      "\u001B[0;31m---------------------------------------------------------------------------\u001B[0m",
      "\u001B[0;31mModuleNotFoundError\u001B[0m                       Traceback (most recent call last)",
      "Cell \u001B[0;32mIn[1], line 10\u001B[0m\n\u001B[1;32m      7\u001B[0m \u001B[38;5;28;01mif\u001B[39;00m module_path \u001B[38;5;129;01mnot\u001B[39;00m \u001B[38;5;129;01min\u001B[39;00m sys\u001B[38;5;241m.\u001B[39mpath:\n\u001B[1;32m      8\u001B[0m     sys\u001B[38;5;241m.\u001B[39mpath\u001B[38;5;241m.\u001B[39mappend(module_path)\n\u001B[0;32m---> 10\u001B[0m \u001B[38;5;28;01mfrom\u001B[39;00m \u001B[38;5;21;01minstructor\u001B[39;00m\u001B[38;5;21;01m.\u001B[39;00m\u001B[38;5;21;01menvironment\u001B[39;00m \u001B[38;5;28;01mimport\u001B[39;00m FindAllShapesEnv\n\u001B[1;32m     11\u001B[0m \u001B[38;5;28;01mfrom\u001B[39;00m \u001B[38;5;21;01minstructor\u001B[39;00m\u001B[38;5;21;01m.\u001B[39;00m\u001B[38;5;21;01mcallback\u001B[39;00m \u001B[38;5;28;01mimport\u001B[39;00m IoUCallback\n\u001B[1;32m     12\u001B[0m \u001B[38;5;28;01mfrom\u001B[39;00m \u001B[38;5;21;01mdatasets\u001B[39;00m\u001B[38;5;21;01m.\u001B[39;00m\u001B[38;5;21;01mshapes\u001B[39;00m \u001B[38;5;28;01mimport\u001B[39;00m generate_image\n",
      "\u001B[0;31mModuleNotFoundError\u001B[0m: No module named 'instructor'"
     ]
    }
   ],
   "source": [
    "import os\n",
    "import sys\n",
    "\n",
    "import numpy as np\n",
    "\n",
    "module_path = os.path.abspath(os.path.join('...'))\n",
    "if module_path not in sys.path:\n",
    "    sys.path.append(module_path)\n",
    "\n",
    "from instructor.environment import FindAllShapesEnv\n",
    "from instructor.callback import IoUCallback\n",
    "from datasets.shapes import generate_image\n",
    "\n",
    "%load_ext autoreload\n",
    "%autoreload 2"
   ]
  },
  {
   "cell_type": "code",
   "execution_count": 2,
   "outputs": [],
   "source": [
    "# from datasets.shapes import Triangle\n",
    "# \n",
    "# for i in range(5):\n",
    "#     entry = generate_image(8, create_mask=False, combinations=[(Triangle, c) for c in [\"red\", \"green\", \"blue\", \"purple\"]], scale=60)\n",
    "#     entry.image.save(f\"triangles_{i}.png\")"
   ],
   "metadata": {
    "collapsed": false,
    "ExecuteTime": {
     "end_time": "2023-09-18T13:12:44.100796547Z",
     "start_time": "2023-09-18T13:12:44.078099115Z"
    }
   }
  },
  {
   "cell_type": "code",
   "execution_count": 3,
   "outputs": [],
   "source": [
    "import random\n",
    "import torch\n",
    "\n",
    "SEED = 57\n",
    "\n",
    "def set_random_seed(seed):\n",
    "    torch.backends.cudnn.deterministic = True\n",
    "    torch.manual_seed(seed)\n",
    "    torch.cuda.manual_seed(seed)\n",
    "    np.random.seed(seed)\n",
    "    random.seed(seed)\n",
    "    os.environ[\"PYTHONHASHSEED\"] = str(seed)"
   ],
   "metadata": {
    "collapsed": false,
    "ExecuteTime": {
     "end_time": "2023-09-18T13:12:44.120276211Z",
     "start_time": "2023-09-18T13:12:44.100315590Z"
    }
   }
  },
  {
   "cell_type": "code",
   "execution_count": 4,
   "outputs": [
    {
     "name": "stdout",
     "output_type": "stream",
     "text": [
      "CPU times: user 7min 58s, sys: 2 s, total: 8min\n",
      "Wall time: 7min 29s\n"
     ]
    }
   ],
   "source": [
    "%%time\n",
    "from stable_baselines3.common.env_util import make_vec_env\n",
    "from stable_baselines3 import DQN, PPO, A2C\n",
    "from stable_baselines3.common.vec_env import SubprocVecEnv\n",
    "\n",
    "set_random_seed(SEED)\n",
    "make_env = lambda: FindAllShapesEnv(lambda: generate_image(30, False, scale=1).shapes)\n",
    "vec_env = make_vec_env(make_env, n_envs=1024)\n",
    "model = DQN(\"MlpPolicy\", vec_env, verbose=0,\n",
    "            # gradient_steps=-1,\n",
    "            device=\"cpu\",\n",
    "            # policy_kwargs={'net_arch': [64, 64]},\n",
    "            tensorboard_log='tb_test'\n",
    "            ).learn(450000, progress_bar=False, tb_log_name='dqn_base', \n",
    "                    callback=IoUCallback()\n",
    "                    )"
   ],
   "metadata": {
    "collapsed": false,
    "ExecuteTime": {
     "end_time": "2023-09-18T13:20:13.626211777Z",
     "start_time": "2023-09-18T13:12:44.121042688Z"
    }
   }
  },
  {
   "cell_type": "code",
   "execution_count": 5,
   "outputs": [
    {
     "name": "stdout",
     "output_type": "stream",
     "text": [
      "Mean IoU: 0.0\n",
      "Mean reward: 0.11833333333333333\n"
     ]
    }
   ],
   "source": [
    "ious = []\n",
    "rewards = []\n",
    "env = make_env()\n",
    "set_random_seed(SEED)\n",
    "obs = env.reset()\n",
    "for _ in range(3000):\n",
    "    action, _ = model.predict(obs, deterministic=True)\n",
    "    obs, reward, done, info = env.step(action)\n",
    "    rewards.append(reward)\n",
    "    if done:\n",
    "        obs = env.reset()\n",
    "        if 'iou' in info:\n",
    "            ious.append(info['iou'])\n",
    "print(f\"Mean IoU: {np.mean(ious)}\\nMean reward: {np.mean(rewards)}\")"
   ],
   "metadata": {
    "collapsed": false,
    "ExecuteTime": {
     "end_time": "2023-09-18T13:20:18.859903838Z",
     "start_time": "2023-09-18T13:20:13.624665235Z"
    }
   }
  },
  {
   "cell_type": "code",
   "execution_count": 6,
   "outputs": [
    {
     "data": {
      "text/plain": "[<matplotlib.lines.Line2D at 0x7f38dbab6bc0>]"
     },
     "execution_count": 6,
     "metadata": {},
     "output_type": "execute_result"
    },
    {
     "data": {
      "text/plain": "<Figure size 640x480 with 1 Axes>",
      "image/png": "[encoded data removed]"
     },
     "metadata": {},
     "output_type": "display_data"
    }
   ],
   "source": [
    "import matplotlib.pyplot as plt\n",
    "\n",
    "plt.plot(ious)"
   ],
   "metadata": {
    "collapsed": false,
    "ExecuteTime": {
     "end_time": "2023-09-18T13:20:19.057251865Z",
     "start_time": "2023-09-18T13:20:18.853057755Z"
    }
   }
  },
  {
   "cell_type": "code",
   "execution_count": 7,
   "outputs": [
    {
     "name": "stdout",
     "output_type": "stream",
     "text": [
      "Circle: red, Triangle: red, Triangle: blue, Square: blue, Triangle: red, Triangle: green, Triangle: red, Square: blue\n",
      "Step 1\n",
      "Action:  STOP\n",
      "obs= [0. 0. 1. 1. 0. 0. 0. 0. 0. 0. 0. 0. 0. 0. 0. 0. 0. 0.] reward= 5 done= True\n",
      "\n",
      "Current task: Find all red squares\n",
      "No current shape\n",
      "Extracted: \n",
      "\n",
      "Goal reached! reward= 5\n"
     ]
    }
   ],
   "source": [
    "# Test the trained agent\n",
    "env = FindAllShapesEnv(lambda: generate_image(8, False, scale=1).shapes)\n",
    "obs = env.reset()\n",
    "\n",
    "print(\", \".join(map(str, env.shapes)))\n",
    "\n",
    "n_steps = 70\n",
    "for step in range(n_steps):\n",
    "    action, _ = model.predict(obs, deterministic=True)\n",
    "    print(f\"Step {step + 1}\")\n",
    "    print(\"Action: \", env.action_dict[action.item()])\n",
    "    obs, reward, done, info = env.step(action)\n",
    "    print('obs=', obs, 'reward=', reward, 'done=', done)\n",
    "    env.render(mode='console')\n",
    "    if done:\n",
    "        # Note that the VecEnv resets automatically\n",
    "        # when a done signal is encountered\n",
    "        print(\"Goal reached!\", \"reward=\", reward)\n",
    "        break"
   ],
   "metadata": {
    "collapsed": false,
    "ExecuteTime": {
     "end_time": "2023-09-18T13:20:19.084904321Z",
     "start_time": "2023-09-18T13:20:19.052852640Z"
    }
   }
  },
  {
   "cell_type": "code",
   "execution_count": 8,
   "outputs": [
    {
     "data": {
      "text/plain": "DQNPolicy(\n  (q_net): QNetwork(\n    (features_extractor): FlattenExtractor(\n      (flatten): Flatten(start_dim=1, end_dim=-1)\n    )\n    (q_net): Sequential(\n      (0): Linear(in_features=18, out_features=64, bias=True)\n      (1): ReLU()\n      (2): Linear(in_features=64, out_features=64, bias=True)\n      (3): ReLU()\n      (4): Linear(in_features=64, out_features=5, bias=True)\n    )\n  )\n  (q_net_target): QNetwork(\n    (features_extractor): FlattenExtractor(\n      (flatten): Flatten(start_dim=1, end_dim=-1)\n    )\n    (q_net): Sequential(\n      (0): Linear(in_features=18, out_features=64, bias=True)\n      (1): ReLU()\n      (2): Linear(in_features=64, out_features=64, bias=True)\n      (3): ReLU()\n      (4): Linear(in_features=64, out_features=5, bias=True)\n    )\n  )\n)"
     },
     "execution_count": 8,
     "metadata": {},
     "output_type": "execute_result"
    }
   ],
   "source": [
    "model.policy"
   ],
   "metadata": {
    "collapsed": false,
    "ExecuteTime": {
     "end_time": "2023-09-18T13:20:19.142364587Z",
     "start_time": "2023-09-18T13:20:19.077453347Z"
    }
   }
  },
  {
   "cell_type": "code",
   "execution_count": 8,
   "outputs": [],
   "source": [],
   "metadata": {
    "collapsed": false,
    "ExecuteTime": {
     "end_time": "2023-09-18T13:20:19.142581430Z",
     "start_time": "2023-09-18T13:20:19.118108198Z"
    }
   }
  },
  {
   "cell_type": "code",
   "execution_count": 8,
   "outputs": [],
   "source": [],
   "metadata": {
    "collapsed": false,
    "ExecuteTime": {
     "end_time": "2023-09-18T13:20:19.142685933Z",
     "start_time": "2023-09-18T13:20:19.118638009Z"
    }
   }
  }
 ],
 "metadata": {
  "kernelspec": {
   "display_name": "Python 3",
   "language": "python",
   "name": "python3"
  },
  "language_info": {
   "codemirror_mode": {
    "name": "ipython",
    "version": 2
   },
   "file_extension": ".py",
   "mimetype": "text/x-python",
   "name": "python",
   "nbconvert_exporter": "python",
   "pygments_lexer": "ipython2",
   "version": "2.7.6"
  }
 },
 "nbformat": 4,
 "nbformat_minor": 0
}
